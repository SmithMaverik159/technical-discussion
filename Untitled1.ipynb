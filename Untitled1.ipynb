{
  "nbformat": 4,
  "nbformat_minor": 0,
  "metadata": {
    "colab": {
      "provenance": [],
      "gpuType": "T4",
      "authorship_tag": "ABX9TyNb1slfHHDvqmQvC6651nAo",
      "include_colab_link": true
    },
    "kernelspec": {
      "name": "python3",
      "display_name": "Python 3"
    },
    "language_info": {
      "name": "python"
    },
    "accelerator": "GPU"
  },
  "cells": [
    {
      "cell_type": "markdown",
      "metadata": {
        "id": "view-in-github",
        "colab_type": "text"
      },
      "source": [
        "<a href=\"https://colab.research.google.com/github/SmithMaverik159/technical-discussion/blob/main/Untitled1.ipynb\" target=\"_parent\"><img src=\"https://colab.research.google.com/assets/colab-badge.svg\" alt=\"Open In Colab\"/></a>"
      ]
    },
    {
      "cell_type": "code",
      "execution_count": 7,
      "metadata": {
        "id": "sk1nJ6CHuea5"
      },
      "outputs": [],
      "source": [
        "def hello():\n",
        "    return \"hi\"\n",
        "    hello()\n",
        "\n",
        "\n"
      ]
    },
    {
      "cell_type": "markdown",
      "source": [
        "### Ingest\n",
        "\n"
      ],
      "metadata": {
        "id": "kdO81I2DvU18"
      }
    },
    {
      "cell_type": "markdown",
      "source": [],
      "metadata": {
        "id": "IiqaTwLPvroX"
      }
    },
    {
      "cell_type": "markdown",
      "source": [
        " EDA"
      ],
      "metadata": {
        "id": "dZ5uVs81vbp7"
      }
    },
    {
      "cell_type": "code",
      "source": [],
      "metadata": {
        "id": "82gJVdeBvxmf"
      },
      "execution_count": null,
      "outputs": []
    },
    {
      "cell_type": "markdown",
      "source": [
        "Modeling\n",
        "\n",
        "\n"
      ],
      "metadata": {
        "id": "iJ95xkbMvc_c"
      }
    },
    {
      "cell_type": "markdown",
      "source": [],
      "metadata": {
        "id": "z4-sumb-viCK"
      }
    }
  ]
}